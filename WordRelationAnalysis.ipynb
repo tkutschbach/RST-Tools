{
 "cells": [
  {
   "cell_type": "markdown",
   "metadata": {},
   "source": [
    "# RST-Tree Word Relation Analyser\n",
    "\n",
    "#### Prerequisites:\n",
    "* **Python 3** *(tested with Python 3.9)*\n",
    "* **nltk** *(pip package)*:\n",
    "~~~\n",
    "    pip install nltk\n",
    "~~~ \n",
    "* **punkt** *(nltk package)*:\n",
    "~~~\n",
    "    python\n",
    "    >>> import nltk\n",
    "    >>> nltk.download('punkt')\n",
    "~~~    \n",
    "\n",
    "#### Usage:\n",
    " - Change the parameters in the cell below to your desired value\n",
    " - Click on *Run All Cells*"
   ]
  },
  {
   "cell_type": "code",
   "execution_count": null,
   "metadata": {},
   "outputs": [],
   "source": [
    "filePath = \"input.rs3\"\n",
    "outputFile = \"output.csv\"\n",
    "\n",
    "maximumRelationLevelToShow = 3"
   ]
  },
  {
   "cell_type": "code",
   "execution_count": null,
   "metadata": {},
   "outputs": [],
   "source": [
    "#Extract words and relations\n",
    "from WordRelationsExtractor import WordRelationsExtractor\n",
    "extractor = WordRelationsExtractor(filePath)"
   ]
  },
  {
   "cell_type": "code",
   "execution_count": null,
   "metadata": {},
   "outputs": [],
   "source": [
    "# Generate output\n",
    "csvRows = []\n",
    "for wordRelation in extractor.getWordRelationsTable():\n",
    "    word = wordRelation[0]\n",
    "    relations = wordRelation[1]\n",
    "    \n",
    "    csvRow = [word]\n",
    "    for rel in extractor.getRelationsList():\n",
    "        try:\n",
    "            level = relations.index(rel)\n",
    "            if level < maximumRelationLevelToShow:\n",
    "                csvRow.append(str(level+1))\n",
    "            else:\n",
    "                csvRow.append(\"\")\n",
    "        except ValueError:\n",
    "            csvRow.append(\"\")\n",
    "    \n",
    "    csvRows.append(csvRow)"
   ]
  },
  {
   "cell_type": "code",
   "execution_count": null,
   "metadata": {},
   "outputs": [],
   "source": [
    "# Write to CSV file\n",
    "from csv import writer\n",
    "\n",
    "with open(outputFile, mode='w') as csvFile:\n",
    "    csvWriter = writer(csvFile, delimiter=',')\n",
    "    \n",
    "    csvWriter.writerow([\"\"]+extractor.getRelationsList())\n",
    "    for row in csvRows:\n",
    "        csvWriter.writerow(row)    "
   ]
  }
 ],
 "metadata": {
  "kernelspec": {
   "display_name": "Python 3 (ipykernel)",
   "language": "python",
   "name": "python3"
  },
  "language_info": {
   "codemirror_mode": {
    "name": "ipython",
    "version": 3
   },
   "file_extension": ".py",
   "mimetype": "text/x-python",
   "name": "python",
   "nbconvert_exporter": "python",
   "pygments_lexer": "ipython3",
   "version": "3.9.13"
  }
 },
 "nbformat": 4,
 "nbformat_minor": 4
}
