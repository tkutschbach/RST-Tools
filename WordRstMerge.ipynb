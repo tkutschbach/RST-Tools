{
 "cells": [
  {
   "cell_type": "markdown",
   "metadata": {},
   "source": [
    "# Word- & RST-Annotation Merge\n",
    "\n",
    "#### Prerequisites:\n",
    "* **Python 3** *(tested with Python 3.9)*\n",
    "* **xlrd** *(pip package)*:\n",
    "~~~\n",
    "    pip install xlrd\n",
    "~~~ \n",
    "* **openpyxl** *(pip package)*:\n",
    "~~~\n",
    "    pip install openpyxl\n",
    "~~~ \n",
    "* **xlsxwriter** *(pip package)*:\n",
    "~~~\n",
    "    pip install xlsxwriter\n",
    "~~~ \n",
    "* **nltk** *(pip package)*:\n",
    "~~~\n",
    "    pip install nltk\n",
    "~~~ \n",
    "* **punkt** *(nltk package)*:\n",
    "~~~\n",
    "    python\n",
    "    >>> import nltk\n",
    "    >>> nltk.download('punkt')\n",
    "~~~    \n",
    "\n",
    "#### Usage:\n",
    " - Change the parameters in the cell below to your desired value\n",
    " - Click on *Run All Cells*"
   ]
  },
  {
   "cell_type": "code",
   "execution_count": null,
   "metadata": {},
   "outputs": [],
   "source": [
    "# Parameters\n",
    "maximumRelationLevelToShow = 3\n",
    "\n",
    "# Data directories\n",
    "rstFolder = \"input/RstAnnotations\"\n",
    "wordFolder = \"input/WordAnnotations\"\n",
    "outputFolder = \"output\""
   ]
  },
  {
   "cell_type": "code",
   "execution_count": null,
   "metadata": {},
   "outputs": [],
   "source": [
    "import os\n",
    "import pandas as pd\n",
    "\n",
    "def extractRstAnnotations(filePath):\n",
    "    from WordRelationsExtractor import WordRelationsExtractor\n",
    "    extractor = WordRelationsExtractor(filePath)\n",
    "\n",
    "    # Generate output\n",
    "    csvRows = []\n",
    "    for wordRelation in extractor.getWordRelationsTable():\n",
    "        word = wordRelation[0]\n",
    "        relations = wordRelation[1]\n",
    "\n",
    "        csvRow = [word]\n",
    "        for i in range(0, maximumRelationLevelToShow):\n",
    "            if i < len(relations):\n",
    "                csvRow.append(relations[i])\n",
    "            else:\n",
    "                csvRow.append(\"\")\n",
    "        csvRows.append(csvRow)\n",
    "        \n",
    "    def buildTableHeader():\n",
    "        header = [\"RST-ZH2\"]\n",
    "        for i in range(0, maximumRelationLevelToShow):\n",
    "            header.append(\"Rel-Level-\"+str(i+1))\n",
    "        return header\n",
    "\n",
    "    return pd.DataFrame(data=csvRows, columns=buildTableHeader())\n",
    "\n",
    "def readWordAnnotations(filePath):\n",
    "    def filterOutPunctuations(df):\n",
    "        return df[df['ZH2'].str.contains('[A-Za-z]', na=False)]\n",
    "\n",
    "    return filterOutPunctuations(pd.read_excel(wordFilePath))\n",
    "\n",
    "def performAnnotationMerging(rstFilePath, wordFilePath, outputFilePath):\n",
    "    rstAnnotations = extractRstAnnotations(rstFilePath)\n",
    "    wordAnnotations = readWordAnnotations(wordFilePath)\n",
    "    # Combine RST and Word dataframes back-tn-back (i.e., tails first - because some word-annotated files still contain the title at the beginning)\n",
    "    invRst = rstAnnotations[::-1].reset_index(drop=True)\n",
    "    invWord = wordAnnotations[::-1].reset_index(drop=True)\n",
    "    result = invWord.join(invRst)[::-1].reset_index(drop=True)\n",
    "    # Write merged output\n",
    "    result.to_csv(outputFilePath+\".csv\")\n",
    "    result.to_excel(outputFilePath+\".xlsx\", engine='xlsxwriter')"
   ]
  },
  {
   "cell_type": "code",
   "execution_count": null,
   "metadata": {},
   "outputs": [],
   "source": [
    "# Loop through all RST and Word annotation files, match and merge them\n",
    "for rstFile in os.listdir(rstFolder):\n",
    "    textName = rstFile[:-4]\n",
    "    for wordFile in os.listdir(wordFolder):\n",
    "        if str.__contains__(wordFile, textName):\n",
    "            print(\"Merge: \" +rstFile+ \" & \"+wordFile)\n",
    "            rstFilePath = os.path.join(rstFolder, rstFile)\n",
    "            wordFilePath = os.path.join(wordFolder, wordFile)\n",
    "            outputFilePath = os.path.join(outputFolder, wordFile[:-5] + \"_withRST\")\n",
    "            performAnnotationMerging(rstFilePath, wordFilePath, outputFilePath)\n",
    "            break"
   ]
  }
 ],
 "metadata": {
  "kernelspec": {
   "display_name": "Python 3 (ipykernel)",
   "language": "python",
   "name": "python3"
  },
  "language_info": {
   "codemirror_mode": {
    "name": "ipython",
    "version": 3
   },
   "file_extension": ".py",
   "mimetype": "text/x-python",
   "name": "python",
   "nbconvert_exporter": "python",
   "pygments_lexer": "ipython3",
   "version": "3.9.13"
  }
 },
 "nbformat": 4,
 "nbformat_minor": 4
}
